{
 "cells": [
  {
   "cell_type": "markdown",
   "metadata": {},
   "source": [
    "# Day-01  基本操作"
   ]
  },
  {
   "cell_type": "code",
   "execution_count": 13,
   "metadata": {},
   "outputs": [
    {
     "data": {
      "text/html": [
       "'D:/ML_EXP/juypter/r-learn'"
      ],
      "text/latex": [
       "'D:/ML\\_EXP/juypter/r-learn'"
      ],
      "text/markdown": [
       "'D:/ML_EXP/juypter/r-learn'"
      ],
      "text/plain": [
       "[1] \"D:/ML_EXP/juypter/r-learn\""
      ]
     },
     "metadata": {},
     "output_type": "display_data"
    }
   ],
   "source": [
    "getwd()  # 获取当前路径"
   ]
  },
  {
   "cell_type": "code",
   "execution_count": 15,
   "metadata": {},
   "outputs": [
    {
     "data": {
      "text/html": [
       "'r-learn-01.ipynb'"
      ],
      "text/latex": [
       "'r-learn-01.ipynb'"
      ],
      "text/markdown": [
       "'r-learn-01.ipynb'"
      ],
      "text/plain": [
       "[1] \"r-learn-01.ipynb\""
      ]
     },
     "metadata": {},
     "output_type": "display_data"
    }
   ],
   "source": [
    "dir()    #获取当前文件夹内的文件"
   ]
  },
  {
   "cell_type": "code",
   "execution_count": 16,
   "metadata": {},
   "outputs": [],
   "source": [
    "   x <- 5   # 在R语言中的赋值操作是  <- ，也可以使用等号，但不建议，因为会有其它部分使用；Alt + -可以快速打出赋值符号"
   ]
  },
  {
   "cell_type": "code",
   "execution_count": 19,
   "metadata": {},
   "outputs": [
    {
     "data": {
      "text/html": [
       "6"
      ],
      "text/latex": [
       "6"
      ],
      "text/markdown": [
       "6"
      ],
      "text/plain": [
       "[1] 6"
      ]
     },
     "metadata": {},
     "output_type": "display_data"
    }
   ],
   "source": [
    "x = 6;x   # 这里使用等号，R语言也可以使用分号分隔语句 "
   ]
  },
  {
   "cell_type": "code",
   "execution_count": 24,
   "metadata": {},
   "outputs": [
    {
     "data": {
      "text/html": [
       "'x'"
      ],
      "text/latex": [
       "'x'"
      ],
      "text/markdown": [
       "'x'"
      ],
      "text/plain": [
       "[1] \"x\""
      ]
     },
     "metadata": {},
     "output_type": "display_data"
    }
   ],
   "source": [
    "ls() #查看定义的变量"
   ]
  },
  {
   "cell_type": "code",
   "execution_count": 25,
   "metadata": {},
   "outputs": [
    {
     "name": "stdout",
     "output_type": "stream",
     "text": [
      " num 6\n"
     ]
    }
   ],
   "source": [
    "str(x)  #查看变量信息"
   ]
  },
  {
   "cell_type": "code",
   "execution_count": 26,
   "metadata": {},
   "outputs": [
    {
     "data": {
      "text/html": [
       "'double'"
      ],
      "text/latex": [
       "'double'"
      ],
      "text/markdown": [
       "'double'"
      ],
      "text/plain": [
       "[1] \"double\""
      ]
     },
     "metadata": {},
     "output_type": "display_data"
    }
   ],
   "source": [
    "typeof(x) #查看变量类型"
   ]
  },
  {
   "cell_type": "code",
   "execution_count": 27,
   "metadata": {},
   "outputs": [],
   "source": [
    "rm(x) #移除变量"
   ]
  },
  {
   "cell_type": "code",
   "execution_count": 31,
   "metadata": {},
   "outputs": [],
   "source": [
    "help(package = \"ggplot2\") # 查看包的帮助"
   ]
  },
  {
   "cell_type": "code",
   "execution_count": 33,
   "metadata": {},
   "outputs": [
    {
     "name": "stderr",
     "output_type": "stream",
     "text": [
      "Registered S3 methods overwritten by 'ggplot2':\n",
      "  method         from \n",
      "  [.quosures     rlang\n",
      "  c.quosures     rlang\n",
      "  print.quosures rlang\n"
     ]
    }
   ],
   "source": [
    "library(package = 'ggplot2')"
   ]
  },
  {
   "cell_type": "markdown",
   "metadata": {},
   "source": [
    "*  1. install.packages('lib name') 安装包  *\n",
    "*  2. require（‘lib name’）导入包   *\n",
    "*  3. data（package='lib name'）查看包的数据集 *\n",
    "*  4. ls（package=‘lib name’）查看包提供的函数 *\n",
    "*  5. help（package = ‘lib name’）查看包的帮助 或者使用 ?函数名也可以 *\n",
    "*  6. example(funtion) 查看函数的使用例子 *\n",
    "*  7. demo(function) 查看函数的demo8 *"
   ]
  },
  {
   "cell_type": "code",
   "execution_count": 42,
   "metadata": {},
   "outputs": [
    {
     "name": "stdout",
     "output_type": "stream",
     "text": [
      "\n",
      "mean> x <- c(0:10, 50)\n",
      "\n",
      "mean> xm <- mean(x)\n",
      "\n",
      "mean> c(xm, mean(x, trim = 0.10))\n",
      "[1] 8.75 5.50\n"
     ]
    }
   ],
   "source": [
    "example(mean)"
   ]
  },
  {
   "cell_type": "code",
   "execution_count": 43,
   "metadata": {},
   "outputs": [
    {
     "ename": "ERROR",
     "evalue": "Error in demo(mean): No demo found for topic 'mean'\n",
     "output_type": "error",
     "traceback": [
      "Error in demo(mean): No demo found for topic 'mean'\nTraceback:\n",
      "1. demo(mean)",
      "2. stop(gettextf(\"No demo found for topic %s\", sQuote(topic)), domain = NA)"
     ]
    }
   ],
   "source": [
    "demo(mean)"
   ]
  },
  {
   "cell_type": "code",
   "execution_count": 44,
   "metadata": {},
   "outputs": [
    {
     "data": {
      "text/html": [
       "<ol class=list-inline>\n",
       "\t<li>735</li>\n",
       "\t<li>320</li>\n",
       "\t<li>325</li>\n",
       "\t<li>392</li>\n",
       "\t<li>524</li>\n",
       "\t<li>450</li>\n",
       "\t<li>1459</li>\n",
       "\t<li>135</li>\n",
       "\t<li>465</li>\n",
       "\t<li>600</li>\n",
       "\t<li>330</li>\n",
       "\t<li>336</li>\n",
       "\t<li>280</li>\n",
       "\t<li>315</li>\n",
       "\t<li>870</li>\n",
       "\t<li>906</li>\n",
       "\t<li>202</li>\n",
       "\t<li>329</li>\n",
       "\t<li>290</li>\n",
       "\t<li>1000</li>\n",
       "\t<li>600</li>\n",
       "\t<li>505</li>\n",
       "\t<li>1450</li>\n",
       "\t<li>840</li>\n",
       "\t<li>1243</li>\n",
       "\t<li>890</li>\n",
       "\t<li>350</li>\n",
       "\t<li>407</li>\n",
       "\t<li>286</li>\n",
       "\t<li>280</li>\n",
       "\t<li>525</li>\n",
       "\t<li>720</li>\n",
       "\t<li>390</li>\n",
       "\t<li>250</li>\n",
       "\t<li>327</li>\n",
       "\t<li>230</li>\n",
       "\t<li>265</li>\n",
       "\t<li>850</li>\n",
       "\t<li>210</li>\n",
       "\t<li>630</li>\n",
       "\t<li>260</li>\n",
       "\t<li>230</li>\n",
       "\t<li>360</li>\n",
       "\t<li>730</li>\n",
       "\t<li>600</li>\n",
       "\t<li>306</li>\n",
       "\t<li>390</li>\n",
       "\t<li>420</li>\n",
       "\t<li>291</li>\n",
       "\t<li>710</li>\n",
       "\t<li>340</li>\n",
       "\t<li>217</li>\n",
       "\t<li>281</li>\n",
       "\t<li>352</li>\n",
       "\t<li>259</li>\n",
       "\t<li>250</li>\n",
       "\t<li>470</li>\n",
       "\t<li>680</li>\n",
       "\t<li>570</li>\n",
       "\t<li>350</li>\n",
       "\t<li>300</li>\n",
       "\t<li>560</li>\n",
       "\t<li>900</li>\n",
       "\t<li>625</li>\n",
       "\t<li>332</li>\n",
       "\t<li>2348</li>\n",
       "\t<li>1171</li>\n",
       "\t<li>3710</li>\n",
       "\t<li>2315</li>\n",
       "\t<li>2533</li>\n",
       "\t<li>780</li>\n",
       "\t<li>280</li>\n",
       "\t<li>410</li>\n",
       "\t<li>460</li>\n",
       "\t<li>260</li>\n",
       "\t<li>255</li>\n",
       "\t<li>431</li>\n",
       "\t<li>350</li>\n",
       "\t<li>760</li>\n",
       "\t<li>618</li>\n",
       "\t<li>338</li>\n",
       "\t<li>981</li>\n",
       "\t<li>1306</li>\n",
       "\t<li>500</li>\n",
       "\t<li>696</li>\n",
       "\t<li>605</li>\n",
       "\t<li>250</li>\n",
       "\t<li>411</li>\n",
       "\t<li>1054</li>\n",
       "\t<li>735</li>\n",
       "\t<li>233</li>\n",
       "\t<li>435</li>\n",
       "\t<li>490</li>\n",
       "\t<li>310</li>\n",
       "\t<li>460</li>\n",
       "\t<li>383</li>\n",
       "\t<li>375</li>\n",
       "\t<li>1270</li>\n",
       "\t<li>545</li>\n",
       "\t<li>445</li>\n",
       "\t<li>1885</li>\n",
       "\t<li>380</li>\n",
       "\t<li>300</li>\n",
       "\t<li>380</li>\n",
       "\t<li>377</li>\n",
       "\t<li>425</li>\n",
       "\t<li>276</li>\n",
       "\t<li>210</li>\n",
       "\t<li>800</li>\n",
       "\t<li>420</li>\n",
       "\t<li>350</li>\n",
       "\t<li>360</li>\n",
       "\t<li>538</li>\n",
       "\t<li>1100</li>\n",
       "\t<li>1205</li>\n",
       "\t<li>314</li>\n",
       "\t<li>237</li>\n",
       "\t<li>610</li>\n",
       "\t<li>360</li>\n",
       "\t<li>540</li>\n",
       "\t<li>1038</li>\n",
       "\t<li>424</li>\n",
       "\t<li>310</li>\n",
       "\t<li>300</li>\n",
       "\t<li>444</li>\n",
       "\t<li>301</li>\n",
       "\t<li>268</li>\n",
       "\t<li>620</li>\n",
       "\t<li>215</li>\n",
       "\t<li>652</li>\n",
       "\t<li>900</li>\n",
       "\t<li>525</li>\n",
       "\t<li>246</li>\n",
       "\t<li>360</li>\n",
       "\t<li>529</li>\n",
       "\t<li>500</li>\n",
       "\t<li>720</li>\n",
       "\t<li>270</li>\n",
       "\t<li>430</li>\n",
       "\t<li>671</li>\n",
       "\t<li>1770</li>\n",
       "</ol>\n"
      ],
      "text/latex": [
       "\\begin{enumerate*}\n",
       "\\item 735\n",
       "\\item 320\n",
       "\\item 325\n",
       "\\item 392\n",
       "\\item 524\n",
       "\\item 450\n",
       "\\item 1459\n",
       "\\item 135\n",
       "\\item 465\n",
       "\\item 600\n",
       "\\item 330\n",
       "\\item 336\n",
       "\\item 280\n",
       "\\item 315\n",
       "\\item 870\n",
       "\\item 906\n",
       "\\item 202\n",
       "\\item 329\n",
       "\\item 290\n",
       "\\item 1000\n",
       "\\item 600\n",
       "\\item 505\n",
       "\\item 1450\n",
       "\\item 840\n",
       "\\item 1243\n",
       "\\item 890\n",
       "\\item 350\n",
       "\\item 407\n",
       "\\item 286\n",
       "\\item 280\n",
       "\\item 525\n",
       "\\item 720\n",
       "\\item 390\n",
       "\\item 250\n",
       "\\item 327\n",
       "\\item 230\n",
       "\\item 265\n",
       "\\item 850\n",
       "\\item 210\n",
       "\\item 630\n",
       "\\item 260\n",
       "\\item 230\n",
       "\\item 360\n",
       "\\item 730\n",
       "\\item 600\n",
       "\\item 306\n",
       "\\item 390\n",
       "\\item 420\n",
       "\\item 291\n",
       "\\item 710\n",
       "\\item 340\n",
       "\\item 217\n",
       "\\item 281\n",
       "\\item 352\n",
       "\\item 259\n",
       "\\item 250\n",
       "\\item 470\n",
       "\\item 680\n",
       "\\item 570\n",
       "\\item 350\n",
       "\\item 300\n",
       "\\item 560\n",
       "\\item 900\n",
       "\\item 625\n",
       "\\item 332\n",
       "\\item 2348\n",
       "\\item 1171\n",
       "\\item 3710\n",
       "\\item 2315\n",
       "\\item 2533\n",
       "\\item 780\n",
       "\\item 280\n",
       "\\item 410\n",
       "\\item 460\n",
       "\\item 260\n",
       "\\item 255\n",
       "\\item 431\n",
       "\\item 350\n",
       "\\item 760\n",
       "\\item 618\n",
       "\\item 338\n",
       "\\item 981\n",
       "\\item 1306\n",
       "\\item 500\n",
       "\\item 696\n",
       "\\item 605\n",
       "\\item 250\n",
       "\\item 411\n",
       "\\item 1054\n",
       "\\item 735\n",
       "\\item 233\n",
       "\\item 435\n",
       "\\item 490\n",
       "\\item 310\n",
       "\\item 460\n",
       "\\item 383\n",
       "\\item 375\n",
       "\\item 1270\n",
       "\\item 545\n",
       "\\item 445\n",
       "\\item 1885\n",
       "\\item 380\n",
       "\\item 300\n",
       "\\item 380\n",
       "\\item 377\n",
       "\\item 425\n",
       "\\item 276\n",
       "\\item 210\n",
       "\\item 800\n",
       "\\item 420\n",
       "\\item 350\n",
       "\\item 360\n",
       "\\item 538\n",
       "\\item 1100\n",
       "\\item 1205\n",
       "\\item 314\n",
       "\\item 237\n",
       "\\item 610\n",
       "\\item 360\n",
       "\\item 540\n",
       "\\item 1038\n",
       "\\item 424\n",
       "\\item 310\n",
       "\\item 300\n",
       "\\item 444\n",
       "\\item 301\n",
       "\\item 268\n",
       "\\item 620\n",
       "\\item 215\n",
       "\\item 652\n",
       "\\item 900\n",
       "\\item 525\n",
       "\\item 246\n",
       "\\item 360\n",
       "\\item 529\n",
       "\\item 500\n",
       "\\item 720\n",
       "\\item 270\n",
       "\\item 430\n",
       "\\item 671\n",
       "\\item 1770\n",
       "\\end{enumerate*}\n"
      ],
      "text/markdown": [
       "1. 735\n",
       "2. 320\n",
       "3. 325\n",
       "4. 392\n",
       "5. 524\n",
       "6. 450\n",
       "7. 1459\n",
       "8. 135\n",
       "9. 465\n",
       "10. 600\n",
       "11. 330\n",
       "12. 336\n",
       "13. 280\n",
       "14. 315\n",
       "15. 870\n",
       "16. 906\n",
       "17. 202\n",
       "18. 329\n",
       "19. 290\n",
       "20. 1000\n",
       "21. 600\n",
       "22. 505\n",
       "23. 1450\n",
       "24. 840\n",
       "25. 1243\n",
       "26. 890\n",
       "27. 350\n",
       "28. 407\n",
       "29. 286\n",
       "30. 280\n",
       "31. 525\n",
       "32. 720\n",
       "33. 390\n",
       "34. 250\n",
       "35. 327\n",
       "36. 230\n",
       "37. 265\n",
       "38. 850\n",
       "39. 210\n",
       "40. 630\n",
       "41. 260\n",
       "42. 230\n",
       "43. 360\n",
       "44. 730\n",
       "45. 600\n",
       "46. 306\n",
       "47. 390\n",
       "48. 420\n",
       "49. 291\n",
       "50. 710\n",
       "51. 340\n",
       "52. 217\n",
       "53. 281\n",
       "54. 352\n",
       "55. 259\n",
       "56. 250\n",
       "57. 470\n",
       "58. 680\n",
       "59. 570\n",
       "60. 350\n",
       "61. 300\n",
       "62. 560\n",
       "63. 900\n",
       "64. 625\n",
       "65. 332\n",
       "66. 2348\n",
       "67. 1171\n",
       "68. 3710\n",
       "69. 2315\n",
       "70. 2533\n",
       "71. 780\n",
       "72. 280\n",
       "73. 410\n",
       "74. 460\n",
       "75. 260\n",
       "76. 255\n",
       "77. 431\n",
       "78. 350\n",
       "79. 760\n",
       "80. 618\n",
       "81. 338\n",
       "82. 981\n",
       "83. 1306\n",
       "84. 500\n",
       "85. 696\n",
       "86. 605\n",
       "87. 250\n",
       "88. 411\n",
       "89. 1054\n",
       "90. 735\n",
       "91. 233\n",
       "92. 435\n",
       "93. 490\n",
       "94. 310\n",
       "95. 460\n",
       "96. 383\n",
       "97. 375\n",
       "98. 1270\n",
       "99. 545\n",
       "100. 445\n",
       "101. 1885\n",
       "102. 380\n",
       "103. 300\n",
       "104. 380\n",
       "105. 377\n",
       "106. 425\n",
       "107. 276\n",
       "108. 210\n",
       "109. 800\n",
       "110. 420\n",
       "111. 350\n",
       "112. 360\n",
       "113. 538\n",
       "114. 1100\n",
       "115. 1205\n",
       "116. 314\n",
       "117. 237\n",
       "118. 610\n",
       "119. 360\n",
       "120. 540\n",
       "121. 1038\n",
       "122. 424\n",
       "123. 310\n",
       "124. 300\n",
       "125. 444\n",
       "126. 301\n",
       "127. 268\n",
       "128. 620\n",
       "129. 215\n",
       "130. 652\n",
       "131. 900\n",
       "132. 525\n",
       "133. 246\n",
       "134. 360\n",
       "135. 529\n",
       "136. 500\n",
       "137. 720\n",
       "138. 270\n",
       "139. 430\n",
       "140. 671\n",
       "141. 1770\n",
       "\n",
       "\n"
      ],
      "text/plain": [
       "  [1]  735  320  325  392  524  450 1459  135  465  600  330  336  280  315  870\n",
       " [16]  906  202  329  290 1000  600  505 1450  840 1243  890  350  407  286  280\n",
       " [31]  525  720  390  250  327  230  265  850  210  630  260  230  360  730  600\n",
       " [46]  306  390  420  291  710  340  217  281  352  259  250  470  680  570  350\n",
       " [61]  300  560  900  625  332 2348 1171 3710 2315 2533  780  280  410  460  260\n",
       " [76]  255  431  350  760  618  338  981 1306  500  696  605  250  411 1054  735\n",
       " [91]  233  435  490  310  460  383  375 1270  545  445 1885  380  300  380  377\n",
       "[106]  425  276  210  800  420  350  360  538 1100 1205  314  237  610  360  540\n",
       "[121] 1038  424  310  300  444  301  268  620  215  652  900  525  246  360  529\n",
       "[136]  500  720  270  430  671 1770"
      ]
     },
     "metadata": {},
     "output_type": "display_data"
    }
   ],
   "source": [
    "rivers"
   ]
  },
  {
   "cell_type": "markdown",
   "metadata": {},
   "source": [
    "## 向量操作\n",
    "1. 生成\n",
    "  1. c()\n",
    "  2. seq(from=,to=,by=step)\n",
    "   3. list()\n",
    "2. 操作\n",
    "    1. length()\n",
    "    2. v[index]:index必须正整数，从1开始，当其为负数的时候，意味排除某项(相当于删除)；index可以为一个vector，也可以为一个数字\n",
    "    3. rep(x,num) 复制元素\n",
    "    4. 同样支持布尔索引\n",
    "    5. %in% 包含操作\n",
    "    "
   ]
  },
  {
   "cell_type": "code",
   "execution_count": 83,
   "metadata": {},
   "outputs": [],
   "source": [
    "y  <-  c(\"one\"=1,\"two\"=2)  # 字典类型"
   ]
  },
  {
   "cell_type": "code",
   "execution_count": 82,
   "metadata": {},
   "outputs": [
    {
     "data": {
      "text/html": [
       "<ol class=list-inline>\n",
       "\t<li>'one'</li>\n",
       "\t<li>'two'</li>\n",
       "</ol>\n"
      ],
      "text/latex": [
       "\\begin{enumerate*}\n",
       "\\item 'one'\n",
       "\\item 'two'\n",
       "\\end{enumerate*}\n"
      ],
      "text/markdown": [
       "1. 'one'\n",
       "2. 'two'\n",
       "\n",
       "\n"
      ],
      "text/plain": [
       "[1] \"one\" \"two\""
      ]
     },
     "metadata": {},
     "output_type": "display_data"
    }
   ],
   "source": [
    "names(y)"
   ]
  },
  {
   "cell_type": "code",
   "execution_count": 71,
   "metadata": {},
   "outputs": [],
   "source": [
    "names(y)  <-  c('one','two')"
   ]
  },
  {
   "cell_type": "code",
   "execution_count": 72,
   "metadata": {},
   "outputs": [
    {
     "data": {
      "text/html": [
       "<dl class=dl-horizontal>\n",
       "\t<dt>one</dt>\n",
       "\t\t<dd>'one'</dd>\n",
       "\t<dt>two</dt>\n",
       "\t\t<dd>'two'</dd>\n",
       "</dl>\n"
      ],
      "text/latex": [
       "\\begin{description*}\n",
       "\\item[one] 'one'\n",
       "\\item[two] 'two'\n",
       "\\end{description*}\n"
      ],
      "text/markdown": [
       "one\n",
       ":   'one'two\n",
       ":   'two'\n",
       "\n"
      ],
      "text/plain": [
       "  one   two \n",
       "\"one\" \"two\" "
      ]
     },
     "metadata": {},
     "output_type": "display_data"
    }
   ],
   "source": [
    "y"
   ]
  },
  {
   "cell_type": "code",
   "execution_count": 73,
   "metadata": {},
   "outputs": [],
   "source": [
    "# dimnames（matrix）  为矩阵行列设置名称，默认名称是数字"
   ]
  },
  {
   "cell_type": "code",
   "execution_count": 100,
   "metadata": {},
   "outputs": [
    {
     "data": {
      "text/html": [
       "<table>\n",
       "<tbody>\n",
       "\t<tr><td> 1</td><td> 2</td><td> 3</td><td> 4</td><td> 5</td><td> 6</td><td> 7</td><td> 8</td></tr>\n",
       "\t<tr><td> 9</td><td>10</td><td>11</td><td>12</td><td>13</td><td>14</td><td>15</td><td>16</td></tr>\n",
       "\t<tr><td>17</td><td>18</td><td>19</td><td>20</td><td>21</td><td>22</td><td>23</td><td>24</td></tr>\n",
       "\t<tr><td>25</td><td>26</td><td>27</td><td>28</td><td>29</td><td>30</td><td>31</td><td>32</td></tr>\n",
       "</tbody>\n",
       "</table>\n"
      ],
      "text/latex": [
       "\\begin{tabular}{llllllll}\n",
       "\t  1 &  2 &  3 &  4 &  5 &  6 &  7 &  8\\\\\n",
       "\t  9 & 10 & 11 & 12 & 13 & 14 & 15 & 16\\\\\n",
       "\t 17 & 18 & 19 & 20 & 21 & 22 & 23 & 24\\\\\n",
       "\t 25 & 26 & 27 & 28 & 29 & 30 & 31 & 32\\\\\n",
       "\\end{tabular}\n"
      ],
      "text/markdown": [
       "\n",
       "|  1 |  2 |  3 |  4 |  5 |  6 |  7 |  8 |\n",
       "|  9 | 10 | 11 | 12 | 13 | 14 | 15 | 16 |\n",
       "| 17 | 18 | 19 | 20 | 21 | 22 | 23 | 24 |\n",
       "| 25 | 26 | 27 | 28 | 29 | 30 | 31 | 32 |\n",
       "\n"
      ],
      "text/plain": [
       "     [,1] [,2] [,3] [,4] [,5] [,6] [,7] [,8]\n",
       "[1,]  1    2    3    4    5    6    7    8  \n",
       "[2,]  9   10   11   12   13   14   15   16  \n",
       "[3,] 17   18   19   20   21   22   23   24  \n",
       "[4,] 25   26   27   28   29   30   31   32  "
      ]
     },
     "metadata": {},
     "output_type": "display_data"
    }
   ],
   "source": [
    "mat = matrix(1:32,4,8,byrow = T);mat # byrow = T 按照行进行转化"
   ]
  },
  {
   "cell_type": "code",
   "execution_count": 101,
   "metadata": {},
   "outputs": [],
   "source": [
    "cnames=c('a','b','c','d','e','f','g','h');rnames=c('one','two','three','four');"
   ]
  },
  {
   "cell_type": "code",
   "execution_count": 102,
   "metadata": {},
   "outputs": [],
   "source": [
    "dimnames(x = mat) = list(rnames,cnames)"
   ]
  },
  {
   "cell_type": "code",
   "execution_count": 103,
   "metadata": {},
   "outputs": [
    {
     "data": {
      "text/html": [
       "<table>\n",
       "<thead><tr><th></th><th scope=col>a</th><th scope=col>b</th><th scope=col>c</th><th scope=col>d</th><th scope=col>e</th><th scope=col>f</th><th scope=col>g</th><th scope=col>h</th></tr></thead>\n",
       "<tbody>\n",
       "\t<tr><th scope=row>one</th><td> 1</td><td> 2</td><td> 3</td><td> 4</td><td> 5</td><td> 6</td><td> 7</td><td> 8</td></tr>\n",
       "\t<tr><th scope=row>two</th><td> 9</td><td>10</td><td>11</td><td>12</td><td>13</td><td>14</td><td>15</td><td>16</td></tr>\n",
       "\t<tr><th scope=row>three</th><td>17</td><td>18</td><td>19</td><td>20</td><td>21</td><td>22</td><td>23</td><td>24</td></tr>\n",
       "\t<tr><th scope=row>four</th><td>25</td><td>26</td><td>27</td><td>28</td><td>29</td><td>30</td><td>31</td><td>32</td></tr>\n",
       "</tbody>\n",
       "</table>\n"
      ],
      "text/latex": [
       "\\begin{tabular}{r|llllllll}\n",
       "  & a & b & c & d & e & f & g & h\\\\\n",
       "\\hline\n",
       "\tone &  1 &  2 &  3 &  4 &  5 &  6 &  7 &  8\\\\\n",
       "\ttwo &  9 & 10 & 11 & 12 & 13 & 14 & 15 & 16\\\\\n",
       "\tthree & 17 & 18 & 19 & 20 & 21 & 22 & 23 & 24\\\\\n",
       "\tfour & 25 & 26 & 27 & 28 & 29 & 30 & 31 & 32\\\\\n",
       "\\end{tabular}\n"
      ],
      "text/markdown": [
       "\n",
       "| <!--/--> | a | b | c | d | e | f | g | h |\n",
       "|---|---|---|---|---|---|---|---|---|\n",
       "| one |  1 |  2 |  3 |  4 |  5 |  6 |  7 |  8 |\n",
       "| two |  9 | 10 | 11 | 12 | 13 | 14 | 15 | 16 |\n",
       "| three | 17 | 18 | 19 | 20 | 21 | 22 | 23 | 24 |\n",
       "| four | 25 | 26 | 27 | 28 | 29 | 30 | 31 | 32 |\n",
       "\n"
      ],
      "text/plain": [
       "      a  b  c  d  e  f  g  h \n",
       "one    1  2  3  4  5  6  7  8\n",
       "two    9 10 11 12 13 14 15 16\n",
       "three 17 18 19 20 21 22 23 24\n",
       "four  25 26 27 28 29 30 31 32"
      ]
     },
     "metadata": {},
     "output_type": "display_data"
    }
   ],
   "source": [
    "mat"
   ]
  },
  {
   "cell_type": "markdown",
   "metadata": {},
   "source": [
    "## 列表与向量的区别\n",
    "列表元素类型可以不同，向量的元素必须相同"
   ]
  },
  {
   "cell_type": "code",
   "execution_count": 106,
   "metadata": {},
   "outputs": [
    {
     "data": {
      "text/html": [
       "<dl class=dl-horizontal>\n",
       "\t<dt>one</dt>\n",
       "\t\t<dd>2</dd>\n",
       "\t<dt>two</dt>\n",
       "\t\t<dd>10</dd>\n",
       "\t<dt>three</dt>\n",
       "\t\t<dd>18</dd>\n",
       "\t<dt>four</dt>\n",
       "\t\t<dd>26</dd>\n",
       "</dl>\n"
      ],
      "text/latex": [
       "\\begin{description*}\n",
       "\\item[one] 2\n",
       "\\item[two] 10\n",
       "\\item[three] 18\n",
       "\\item[four] 26\n",
       "\\end{description*}\n"
      ],
      "text/markdown": [
       "one\n",
       ":   2two\n",
       ":   10three\n",
       ":   18four\n",
       ":   26\n",
       "\n"
      ],
      "text/plain": [
       "  one   two three  four \n",
       "    2    10    18    26 "
      ]
     },
     "metadata": {},
     "output_type": "display_data"
    }
   ],
   "source": [
    "mat[,2]  # 跟python一样"
   ]
  },
  {
   "cell_type": "code",
   "execution_count": 111,
   "metadata": {},
   "outputs": [],
   "source": [
    "fr = data.frame(mat)"
   ]
  },
  {
   "cell_type": "code",
   "execution_count": 112,
   "metadata": {},
   "outputs": [
    {
     "data": {
      "text/html": [
       "<ol class=list-inline>\n",
       "\t<li>1</li>\n",
       "\t<li>9</li>\n",
       "\t<li>17</li>\n",
       "\t<li>25</li>\n",
       "</ol>\n"
      ],
      "text/latex": [
       "\\begin{enumerate*}\n",
       "\\item 1\n",
       "\\item 9\n",
       "\\item 17\n",
       "\\item 25\n",
       "\\end{enumerate*}\n"
      ],
      "text/markdown": [
       "1. 1\n",
       "2. 9\n",
       "3. 17\n",
       "4. 25\n",
       "\n",
       "\n"
      ],
      "text/plain": [
       "[1]  1  9 17 25"
      ]
     },
     "metadata": {},
     "output_type": "display_data"
    }
   ],
   "source": [
    "fr$a  # R语言除了使用索引也可以使用美元符号获取数据,"
   ]
  },
  {
   "cell_type": "code",
   "execution_count": 113,
   "metadata": {},
   "outputs": [
    {
     "data": {
      "text/html": [
       "<ol>\n",
       "\t<li>1</li>\n",
       "\t<li>2</li>\n",
       "\t<li>3</li>\n",
       "\t<li>4</li>\n",
       "\t<li>5</li>\n",
       "</ol>\n"
      ],
      "text/latex": [
       "\\begin{enumerate}\n",
       "\\item 1\n",
       "\\item 2\n",
       "\\item 3\n",
       "\\item 4\n",
       "\\item 5\n",
       "\\end{enumerate}\n"
      ],
      "text/markdown": [
       "1. 1\n",
       "2. 2\n",
       "3. 3\n",
       "4. 4\n",
       "5. 5\n",
       "\n",
       "\n"
      ],
      "text/plain": [
       "[[1]]\n",
       "[1] 1\n",
       "\n",
       "[[2]]\n",
       "[1] 2\n",
       "\n",
       "[[3]]\n",
       "[1] 3\n",
       "\n",
       "[[4]]\n",
       "[1] 4\n",
       "\n",
       "[[5]]\n",
       "[1] 5\n"
      ]
     },
     "metadata": {},
     "output_type": "display_data"
    }
   ],
   "source": [
    "lizt"
   ]
  },
  {
   "cell_type": "markdown",
   "metadata": {},
   "source": [
    "## 理解因子\n",
    "其实因子可以看成一种非连续性变量，数字型和名称型，比如：周一，周二，周三就是一张因子，其level就是周一到周日，我们可以认为定义因子的顺序，比如周一最小，周日最大\n",
    "level:就是可以选择的值"
   ]
  },
  {
   "cell_type": "code",
   "execution_count": 121,
   "metadata": {},
   "outputs": [],
   "source": [
    "week = factor(c('Mon','Thu','Wed','Thur','Fri','Sat','Sun','Mon','Mon'),levels=c('Mon','Thu','Wed','Thur','Fri','Sat','Sun'))"
   ]
  },
  {
   "cell_type": "code",
   "execution_count": 126,
   "metadata": {},
   "outputs": [
    {
     "data": {
      "text/html": [
       "<ol class=list-inline>\n",
       "\t<li>Mon</li>\n",
       "\t<li>Thu</li>\n",
       "\t<li>Wed</li>\n",
       "\t<li>Thur</li>\n",
       "\t<li>Fri</li>\n",
       "\t<li>Sat</li>\n",
       "\t<li>Sun</li>\n",
       "\t<li>Mon</li>\n",
       "\t<li>Mon</li>\n",
       "</ol>\n",
       "\n",
       "<details>\n",
       "\t<summary style=display:list-item;cursor:pointer>\n",
       "\t\t<strong>Levels</strong>:\n",
       "\t</summary>\n",
       "\t<ol class=list-inline>\n",
       "\t\t<li>'Mon'</li>\n",
       "\t\t<li>'Thu'</li>\n",
       "\t\t<li>'Wed'</li>\n",
       "\t\t<li>'Thur'</li>\n",
       "\t\t<li>'Fri'</li>\n",
       "\t\t<li>'Sat'</li>\n",
       "\t\t<li>'Sun'</li>\n",
       "\t</ol>\n",
       "</details>"
      ],
      "text/latex": [
       "\\begin{enumerate*}\n",
       "\\item Mon\n",
       "\\item Thu\n",
       "\\item Wed\n",
       "\\item Thur\n",
       "\\item Fri\n",
       "\\item Sat\n",
       "\\item Sun\n",
       "\\item Mon\n",
       "\\item Mon\n",
       "\\end{enumerate*}\n",
       "\n",
       "\\emph{Levels}: \\begin{enumerate*}\n",
       "\\item 'Mon'\n",
       "\\item 'Thu'\n",
       "\\item 'Wed'\n",
       "\\item 'Thur'\n",
       "\\item 'Fri'\n",
       "\\item 'Sat'\n",
       "\\item 'Sun'\n",
       "\\end{enumerate*}\n"
      ],
      "text/markdown": [
       "1. Mon\n",
       "2. Thu\n",
       "3. Wed\n",
       "4. Thur\n",
       "5. Fri\n",
       "6. Sat\n",
       "7. Sun\n",
       "8. Mon\n",
       "9. Mon\n",
       "\n",
       "\n",
       "\n",
       "**Levels**: 1. 'Mon'\n",
       "2. 'Thu'\n",
       "3. 'Wed'\n",
       "4. 'Thur'\n",
       "5. 'Fri'\n",
       "6. 'Sat'\n",
       "7. 'Sun'\n",
       "\n",
       "\n"
      ],
      "text/plain": [
       "[1] Mon  Thu  Wed  Thur Fri  Sat  Sun  Mon  Mon \n",
       "Levels: Mon < Thu < Wed < Thur < Fri < Sat < Sun"
      ]
     },
     "metadata": {},
     "output_type": "display_data"
    }
   ],
   "source": [
    "week"
   ]
  },
  {
   "cell_type": "code",
   "execution_count": 125,
   "metadata": {},
   "outputs": [],
   "source": [
    "week = factor(c('Mon','Thu','Wed','Thur','Fri','Sat','Sun','Mon','Mon'),levels=c('Mon','Thu','Wed','Thur','Fri','Sat','Sun'),ordered=T)"
   ]
  },
  {
   "cell_type": "markdown",
   "metadata": {},
   "source": [
    "1. 除法 /\n",
    "2. 求余 %%\n",
    "3. 整除 %/%"
   ]
  },
  {
   "cell_type": "markdown",
   "metadata": {},
   "source": [
    "## 字符串"
   ]
  },
  {
   "cell_type": "code",
   "execution_count": 141,
   "metadata": {},
   "outputs": [],
   "source": [
    "str = paste(\"hello\",'R')   # 拼接字符串"
   ]
  },
  {
   "cell_type": "markdown",
   "metadata": {},
   "source": [
    "### 总结与思考：\n",
    "1. R语言是面向过程的，大部分通过函数进行操作\n",
    "2. 大部分编程语言的方法，R都有，必要时可进行搜索引擎搜索"
   ]
  },
  {
   "cell_type": "markdown",
   "metadata": {},
   "source": [
    "### R 语言有很方便的时间函数以及时间序列生成函数\n",
    "ts函数\n",
    "Date函数"
   ]
  },
  {
   "cell_type": "markdown",
   "metadata": {},
   "source": [
    "## 导入数据\n",
    "1. 文件\n",
    "2. 定义\n",
    "3. 数据库\n",
    "4. 粘贴板\n",
    "5. WEB爬虫"
   ]
  },
  {
   "cell_type": "code",
   "execution_count": null,
   "metadata": {},
   "outputs": [],
   "source": [
    "edit(dataframe) #由于Jypter不支持，在Rstdio中可以GUI进行编辑"
   ]
  }
 ],
 "metadata": {
  "kernelspec": {
   "display_name": "R",
   "language": "R",
   "name": "ir"
  },
  "language_info": {
   "codemirror_mode": "r",
   "file_extension": ".r",
   "mimetype": "text/x-r-source",
   "name": "R",
   "pygments_lexer": "r",
   "version": "3.6.1"
  }
 },
 "nbformat": 4,
 "nbformat_minor": 4
}
